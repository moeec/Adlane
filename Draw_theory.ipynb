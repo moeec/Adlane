### import pickle
import cv2
import numpy as np
import matplotlib.pyplot as plt
import matplotlib.image as mpimg
import glob
from moviepy.editor import VideoFileClip



# Create an image to draw on and an image to show the selection window
binary_warped = mpimg.imread('test_images/straight_lines2.jpg') 
out_img = np.dstack((binary_warped, binary_warped, binary_warped))*255
window_img = np.zeros_like(out_img)

print(window_img)
        
